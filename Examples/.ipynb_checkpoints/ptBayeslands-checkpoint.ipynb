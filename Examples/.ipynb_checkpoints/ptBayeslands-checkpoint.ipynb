{
 "cells": [
  {
   "cell_type": "markdown",
   "metadata": {},
   "source": [
    "# Running a Parallel Tempering Bayeslands example\n",
    "\n",
    "In this notebook, we will and run a Bayeslands model using the parallel tempering method.\n",
    "\n",
    "## Bayes\n",
    "\n",
    "Given some data, $D$, we make inference regarding unknown parameters, denoted by  $\\theta$, via the posterior distribution $p(\\theta|D)$,  \n",
    "\n",
    "given by Bayes rule, $p(\\theta|D)=\\frac{p(D|\\theta)p(\\theta)}{P(D)}$\n",
    "\n",
    "$p(D|\\theta)$ is the likelihood of the data given the parameters\n",
    "\n",
    "$p(\\theta)$ is the prior\n",
    "\n",
    "$p(D)$ is a normalizing constant and equal to $\\int p(D|\\theta)p(\\theta)d\\theta$. \n",
    "\n",
    "Bayeslands uses MCMC to obtain samples of $\\theta$ from the posterior distribution by proposing values from some known distribution $q(\\theta)$. The value of $\\theta$ is  then set equal to these proposed values with a probability which ensures the detailed balance condition is met, otherwise the chain remains in its current position. The transition kernel which moves the Markov chain from one point to another in the parameter space is the product of the proposal distribution $q$ and the acceptance probability, $\\alpha$. Under certain conditions, the draws from this transition kernel converge to draws from the stationary distribution, $p(\\theta| D)$.\n",
    "\n",
    "## Parallel Tempering\n",
    "\n",
    "This method requires running Badlands thousands of times to explore the full parameter space. If a model takes 1 second, this is okay, but if a model takes a few minutes, then this very challenging. We use the concept of ***parallel tempering*** to help overcome this problem. Parallel tempering takes its name from thermodynamics of physical systems where the temperature of a system determines the ability to change. Parallel tempering is also known as replica exchange or the Multi-Markov Chain method. It is suitable for multi-modal distributions  by running multiple MCMC chains at different *temperatures* in parallel.\n",
    "\n",
    "   Metropolis Hastings |   MH-Parallel Tempering\n",
    ":-------------------------:|:-------------------------:\n",
    "![](notebook_images/alg_MH.png)  |  ![](notebook_images/alg_MHPT.png)\n",
    "\n",
    "\n",
    "The parallel tempering algorithm can be visualised as follows:\n",
    "\n",
    "<img src=\"notebook_images/multi-core-ptbayeslands.png\" width=500>\n",
    "\n",
    "This comparison between the MCMC and Parallel Tempered exploration of rainfall in a Badlands model. Each sample is trying a slightly different value of rainfall (combined with other parametrs). In this case the ***true value*** of rainfall was 1.5 m/yr.\n",
    "\n",
    "  Rainfall exploration with MCMC |   Rainfall exploration Parallel Tempering\n",
    ":-------------------------:|:-------------------------:\n",
    "![](notebook_images/rain_mcmc.png)  |  ![](notebook_images/rain_pt.png)\n",
    "\n",
    "\n",
    "\n"
   ]
  },
  {
   "cell_type": "code",
   "execution_count": 1,
   "metadata": {},
   "outputs": [
    {
     "name": "stderr",
     "output_type": "stream",
     "text": [
      "/Users/nbutter/anaconda3/envs/pybad2/lib/python2.7/site-packages/matplotlib/__init__.py:1405: UserWarning: \n",
      "This call to matplotlib.use() has no effect because the backend has already\n",
      "been chosen; matplotlib.use() must be called *before* pylab, matplotlib.pyplot,\n",
      "or matplotlib.backends is imported for the first time.\n",
      "\n",
      "  warnings.warn(_use_error_msg)\n"
     ]
    },
    {
     "ename": "ImportError",
     "evalue": "No module named sfd",
     "output_type": "error",
     "traceback": [
      "\u001b[0;31m---------------------------------------------------------------------------\u001b[0m",
      "\u001b[0;31mImportError\u001b[0m                               Traceback (most recent call last)",
      "\u001b[0;32m<ipython-input-1-bcc9cb817c3a>\u001b[0m in \u001b[0;36m<module>\u001b[0;34m()\u001b[0m\n\u001b[1;32m      5\u001b[0m \u001b[0;34m\u001b[0m\u001b[0m\n\u001b[1;32m      6\u001b[0m \u001b[0;31m#Import the script that produces a start and end topography\u001b[0m\u001b[0;34m\u001b[0m\u001b[0;34m\u001b[0m\u001b[0m\n\u001b[0;32m----> 7\u001b[0;31m \u001b[0;32mfrom\u001b[0m \u001b[0mptBayeslands\u001b[0m \u001b[0;32mimport\u001b[0m \u001b[0;34m*\u001b[0m\u001b[0;34m\u001b[0m\u001b[0m\n\u001b[0m\u001b[1;32m      8\u001b[0m \u001b[0;34m\u001b[0m\u001b[0m\n\u001b[1;32m      9\u001b[0m \u001b[0;31m# display plots in SVG format\u001b[0m\u001b[0;34m\u001b[0m\u001b[0;34m\u001b[0m\u001b[0m\n",
      "\u001b[0;32m/Users/nbutter/Projects/GEO/Bayeslands_Workshop/Examples/scripts/ptBayeslands.py\u001b[0m in \u001b[0;36m<module>\u001b[0;34m()\u001b[0m\n\u001b[1;32m     35\u001b[0m \u001b[0;32mfrom\u001b[0m \u001b[0mscipy\u001b[0m\u001b[0;34m.\u001b[0m\u001b[0mspatial\u001b[0m \u001b[0;32mimport\u001b[0m \u001b[0mcKDTree\u001b[0m\u001b[0;34m\u001b[0m\u001b[0m\n\u001b[1;32m     36\u001b[0m \u001b[0;32mfrom\u001b[0m \u001b[0mscipy\u001b[0m \u001b[0;32mimport\u001b[0m \u001b[0mstats\u001b[0m\u001b[0;34m\u001b[0m\u001b[0m\n\u001b[0;32m---> 37\u001b[0;31m \u001b[0;32mfrom\u001b[0m \u001b[0mpyBadlands\u001b[0m\u001b[0;34m.\u001b[0m\u001b[0mmodel\u001b[0m \u001b[0;32mimport\u001b[0m \u001b[0mModel\u001b[0m \u001b[0;32mas\u001b[0m \u001b[0mbadlandsModel\u001b[0m\u001b[0;34m\u001b[0m\u001b[0m\n\u001b[0m\u001b[1;32m     38\u001b[0m \u001b[0;32mfrom\u001b[0m \u001b[0mmpl_toolkits\u001b[0m\u001b[0;34m.\u001b[0m\u001b[0maxes_grid1\u001b[0m \u001b[0;32mimport\u001b[0m \u001b[0mmake_axes_locatable\u001b[0m\u001b[0;34m\u001b[0m\u001b[0m\n\u001b[1;32m     39\u001b[0m \u001b[0;32mfrom\u001b[0m \u001b[0mmpl_toolkits\u001b[0m\u001b[0;34m.\u001b[0m\u001b[0mmplot3d\u001b[0m \u001b[0;32mimport\u001b[0m \u001b[0mAxes3D\u001b[0m\u001b[0;34m\u001b[0m\u001b[0m\n",
      "\u001b[0;32m/Users/nbutter/Projects/GEO/paralleltemp_Bayeslands/pyBadlands/__init__.py\u001b[0m in \u001b[0;36m<module>\u001b[0;34m()\u001b[0m\n\u001b[1;32m     11\u001b[0m \"\"\"\n\u001b[1;32m     12\u001b[0m \u001b[0;34m\u001b[0m\u001b[0m\n\u001b[0;32m---> 13\u001b[0;31m \u001b[0;32mfrom\u001b[0m \u001b[0;34m.\u001b[0m\u001b[0mflow\u001b[0m \u001b[0;32mimport\u001b[0m \u001b[0mflowNetwork\u001b[0m\u001b[0;34m\u001b[0m\u001b[0m\n\u001b[0m\u001b[1;32m     14\u001b[0m \u001b[0;32mfrom\u001b[0m \u001b[0;34m.\u001b[0m\u001b[0msurface\u001b[0m \u001b[0;32mimport\u001b[0m \u001b[0mFVmethod\u001b[0m\u001b[0;34m\u001b[0m\u001b[0m\n\u001b[1;32m     15\u001b[0m \u001b[0;32mfrom\u001b[0m \u001b[0;34m.\u001b[0m\u001b[0msurface\u001b[0m \u001b[0;32mimport\u001b[0m \u001b[0mraster2TIN\u001b[0m\u001b[0;34m\u001b[0m\u001b[0m\n",
      "\u001b[0;32m/Users/nbutter/Projects/GEO/paralleltemp_Bayeslands/pyBadlands/flow/__init__.py\u001b[0m in \u001b[0;36m<module>\u001b[0;34m()\u001b[0m\n\u001b[1;32m     11\u001b[0m \"\"\"\n\u001b[1;32m     12\u001b[0m \u001b[0;34m\u001b[0m\u001b[0m\n\u001b[0;32m---> 13\u001b[0;31m \u001b[0;32mfrom\u001b[0m \u001b[0;34m.\u001b[0m\u001b[0mflowNetwork\u001b[0m  \u001b[0;32mimport\u001b[0m \u001b[0mflowNetwork\u001b[0m\u001b[0;34m\u001b[0m\u001b[0m\n\u001b[0m",
      "\u001b[0;32m/Users/nbutter/Projects/GEO/paralleltemp_Bayeslands/pyBadlands/flow/flowNetwork.py\u001b[0m in \u001b[0;36m<module>\u001b[0;34m()\u001b[0m\n\u001b[1;32m     27\u001b[0m \u001b[0;32mimport\u001b[0m \u001b[0mos\u001b[0m\u001b[0;34m\u001b[0m\u001b[0m\n\u001b[1;32m     28\u001b[0m \u001b[0;32mif\u001b[0m \u001b[0;34m'READTHEDOCS'\u001b[0m \u001b[0;32mnot\u001b[0m \u001b[0;32min\u001b[0m \u001b[0mos\u001b[0m\u001b[0;34m.\u001b[0m\u001b[0menviron\u001b[0m\u001b[0;34m:\u001b[0m\u001b[0;34m\u001b[0m\u001b[0m\n\u001b[0;32m---> 29\u001b[0;31m     \u001b[0;32mimport\u001b[0m \u001b[0mpyBadlands\u001b[0m\u001b[0;34m.\u001b[0m\u001b[0mlibUtils\u001b[0m\u001b[0;34m.\u001b[0m\u001b[0msfd\u001b[0m \u001b[0;32mas\u001b[0m \u001b[0msfd\u001b[0m\u001b[0;34m\u001b[0m\u001b[0m\n\u001b[0m\u001b[1;32m     30\u001b[0m     \u001b[0;32mfrom\u001b[0m \u001b[0mpyBadlands\u001b[0m\u001b[0;34m.\u001b[0m\u001b[0mlibUtils\u001b[0m \u001b[0;32mimport\u001b[0m \u001b[0mPDalgo\u001b[0m\u001b[0;34m\u001b[0m\u001b[0m\n\u001b[1;32m     31\u001b[0m     \u001b[0;32mfrom\u001b[0m \u001b[0mpyBadlands\u001b[0m\u001b[0;34m.\u001b[0m\u001b[0mlibUtils\u001b[0m \u001b[0;32mimport\u001b[0m \u001b[0mFLOWalgo\u001b[0m\u001b[0;34m\u001b[0m\u001b[0m\n",
      "\u001b[0;31mImportError\u001b[0m: No module named sfd"
     ]
    }
   ],
   "source": [
    "#Set up the environemnt\n",
    "%matplotlib inline\n",
    "import sys\n",
    "sys.path.append('scripts/')\n",
    "\n",
    "#Import the script that produces a start and end topography\n",
    "from ptBayeslands import *\n",
    "\n",
    "# display plots in SVG format\n",
    "#%config InlineBackend.figure_format = 'svg' "
   ]
  },
  {
   "cell_type": "code",
   "execution_count": null,
   "metadata": {},
   "outputs": [],
   "source": [
    "#Make some points to track erosion:\n",
    "erdp_coords = np.array([[60,60],[52,67],[74,76],[62,45],[72,66],[85,73],[90,75],[44,86],[100,80],[88,69]])\n",
    "\n",
    "#Start a timer\n",
    "tstart = time.clock()\n",
    "\n",
    "#Set the inputs\n",
    "directory = 'crater/'\n",
    "\n",
    "rainfall = 1.5 #m/a\n",
    "erodibility = 5.e-6 \n",
    "m = 0.5\n",
    "n = 1 \n",
    "runtime = 500000 #years\n",
    "\n",
    "#Run the script\n",
    "topoGenerator(directory,'%s/crater.xml' %(directory), rainfall , erodibility, m, n, runtime, erdp_coords_crater,0)\n",
    "\n",
    "print('TopoGen for crater_fast completed in (s):',time.clock()-tstart)\n",
    "print('Output in %s/data',directory)\n"
   ]
  },
  {
   "cell_type": "markdown",
   "metadata": {},
   "source": [
    "# Check the output"
   ]
  },
  {
   "cell_type": "code",
   "execution_count": null,
   "metadata": {},
   "outputs": [],
   "source": [
    "viewGrid(directory,1,)"
   ]
  },
  {
   "cell_type": "code",
   "execution_count": null,
   "metadata": {},
   "outputs": [],
   "source": []
  },
  {
   "cell_type": "code",
   "execution_count": null,
   "metadata": {},
   "outputs": [],
   "source": []
  }
 ],
 "metadata": {
  "kernelspec": {
   "display_name": "Python 2",
   "language": "python",
   "name": "python2"
  },
  "language_info": {
   "codemirror_mode": {
    "name": "ipython",
    "version": 2
   },
   "file_extension": ".py",
   "mimetype": "text/x-python",
   "name": "python",
   "nbconvert_exporter": "python",
   "pygments_lexer": "ipython2",
   "version": "2.7.15"
  }
 },
 "nbformat": 4,
 "nbformat_minor": 1
}
