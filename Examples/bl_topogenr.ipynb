{
 "cells": [
  {
   "cell_type": "markdown",
   "metadata": {},
   "source": [
    "# Building a topography for Bayeslands inference\n",
    "\n",
    "In this notebook, we will make input for a Bayeslands model.\n",
    "This can be done the same as the Badlands examples, except we additionally need to Run badlands once, to build an 'evolved' model to compare our many solutions to. \n",
    "\n",
    "In practice we often know either our starting state or our evolved state, but not both.\n",
    "This example we build a crater model. If this were the real world, we would probably know the state of the crater at present day, and we might know how old the crater is, with that knowledge we want to try and test a set of model scenarios that might replicate the crater's evolution throgh time.\n",
    "\n"
   ]
  },
  {
   "cell_type": "code",
   "execution_count": null,
   "metadata": {},
   "outputs": [],
   "source": [
    "#Set up the environemnt\n",
    "%matplotlib inline\n",
    "import sys\n",
    "sys.path.append('scripts/')\n",
    "\n",
    "import numpy as np\n",
    "import time\n",
    "\n",
    "#Import the script that produces a start and end topography\n",
    "from bl_topogenr import topoGenerator,viewGrid\n",
    "\n",
    "# display plots in SVG format\n",
    "#%config InlineBackend.figure_format = 'svg'"
   ]
  },
  {
   "cell_type": "code",
   "execution_count": null,
   "metadata": {},
   "outputs": [],
   "source": [
    "#Make some points to track erosion:\n",
    "erdp_coords = np.array([[60,60],[52,67],[74,76],[62,45],[72,66],[85,73],[90,75],[44,86],[100,80],[88,69]])\n",
    "\n",
    "#Define a directory to read the badlands grid and create output files\n",
    "directory = 'crater/'\n",
    "\n",
    "#Set the parameters\n",
    "rainfall = 1.5 #m/a\n",
    "erodibility = 5.e-6 \n",
    "m = 0.5\n",
    "n = 1 \n",
    "runtime = 500000 #years"
   ]
  },
  {
   "cell_type": "code",
   "execution_count": null,
   "metadata": {},
   "outputs": [],
   "source": [
    "#Start a timer\n",
    "tstart = time.clock()\n",
    "\n",
    "#Run the script\n",
    "topoGenerator(directory,'%s/crater.xml' %(directory), rainfall , erodibility, m, n, runtime, erdp_coords,0)\n",
    "\n",
    "print('TopoGen for crater_fast completed in (s):',time.clock()-tstart)\n",
    "print('Output in Examples/'+directory+'data')"
   ]
  },
  {
   "cell_type": "markdown",
   "metadata": {},
   "source": [
    "# Check the output"
   ]
  },
  {
   "cell_type": "code",
   "execution_count": null,
   "metadata": {},
   "outputs": [],
   "source": [
    "# viewGrid(directory,'final_elev','N/A',rainfall,erodibility,zmin=-1000, zmax=1000)"
   ]
  },
  {
   "cell_type": "code",
   "execution_count": null,
   "metadata": {},
   "outputs": [],
   "source": []
  }
 ],
 "metadata": {
  "kernelspec": {
   "display_name": "Python 2",
   "language": "python",
   "name": "python2"
  },
  "language_info": {
   "codemirror_mode": {
    "name": "ipython",
    "version": 2
   },
   "file_extension": ".py",
   "mimetype": "text/x-python",
   "name": "python",
   "nbconvert_exporter": "python",
   "pygments_lexer": "ipython2",
   "version": "2.7.15"
  }
 },
 "nbformat": 4,
 "nbformat_minor": 1
}
