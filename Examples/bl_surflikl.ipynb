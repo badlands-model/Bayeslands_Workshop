{
 "cells": [
  {
   "cell_type": "markdown",
   "metadata": {},
   "source": [
    "# Developing a Likelihood surface for Badlands\n",
    "\n",
    "In this notebook, we will and run a Bayeslands model\n",
    "\n",
    "## Grid Search\n",
    "\n",
    "The Likelihood Surfaces can visualised as follows:\n",
    "\n",
    "![](notebook_images/likl_surface_mcmc.png)"
   ]
  },
  {
   "cell_type": "code",
   "execution_count": null,
   "metadata": {},
   "outputs": [],
   "source": [
    "#Set up the environemnt\n",
    "%matplotlib inline\n",
    "import sys\n",
    "sys.path.append('scripts/')\n",
    "\n",
    "import numpy as np\n",
    "import time\n",
    "import random\n",
    "\n",
    "# display plots in SVG format\n",
    "#%config InlineBackend.figure_format = 'svg'\n",
    "\n",
    "#Import the script that produces a start and end topography\n",
    "from bl_surflikl import *\n",
    "\n",
    "\n",
    "from bl_preproc import *\n",
    "from bl_postproc import *\n",
    "\n",
    "# display plots in SVG format\n",
    "#%config InlineBackend.figure_format = 'svg' "
   ]
  },
  {
   "cell_type": "code",
   "execution_count": null,
   "metadata": {},
   "outputs": [],
   "source": [
    "random.seed(time.time())\n",
    "muted = True\n",
    "run_nb = 0\n",
    "directory = \"\"\n",
    "likl_sed = False\n",
    "\n",
    "\n",
    "#Make some points to track erosion:\n",
    "erdp_coords = np.array([[60,60],[52,67],[74,76],[62,45],[72,66],[85,73],[90,75],[44,86],[100,80],[88,69]])\n",
    "\n",
    "#Start a timer\n",
    "tstart = time.clock()\n",
    "\n",
    "#Set the inputs\n",
    "directory = 'crater/'\n",
    "\n",
    "rainfall = 1.5 #m/a\n",
    "erodibility = 5.e-6 \n",
    "m = 0.5\n",
    "n = 1 \n",
    "simtime = 500000 #years\n",
    "directory = 'crater'\n",
    "xmlinput = '%s/crater.xml' %(directory)\n",
    "samples = 100\n",
    "rainlimits = [0.0, 3.0]\n",
    "erodlimits = [3.e-5, 7.e-5]\n",
    "mlimit = [0.4, 0.6]\n",
    "nlimit = [0.9, 1.1]\n",
    "true_rain = 1.5\n",
    "true_erod = 5.e-5\n",
    "marinelimit = [5.e-3,4.e-2]\n",
    "aeriallimit = [3.e-2,7.e-2]\n",
    "likl_sed = True\n",
    "erdp_coords = erdp_coords"
   ]
  },
  {
   "cell_type": "code",
   "execution_count": null,
   "metadata": {},
   "outputs": [],
   "source": [
    "#Create all the output directories\n",
    "final_elev = np.loadtxt('%s/data/final_elev.txt' %(directory))\n",
    "final_erdp = np.loadtxt('%s/data/final_erdp.txt' %(directory))\n",
    "final_erdp_pts = np.loadtxt('%s/data/final_erdp_pts.txt' %(directory))\t\n",
    "\n",
    "while os.path.exists('%s/liklSurface_%s' % (directory,run_nb)):\n",
    "    run_nb+=1\n",
    "if not os.path.exists('%s/liklSurface_%s' % (directory,run_nb)):\n",
    "    os.makedirs('%s/liklSurface_%s' % (directory,run_nb))\n",
    "    os.makedirs('%s/liklSurface_%s/plots' % (directory,run_nb))\n",
    "    os.makedirs('%s/liklSurface_%s/prediction_data' % (directory,run_nb))\n",
    "    filename = ('%s/liklSurface_%s' % (directory,run_nb))\n",
    "\n",
    "print '\\nInput file shape', final_elev.shape, '\\n'\n",
    "run_nb_str = 'liklSurface_' + str(run_nb)"
   ]
  },
  {
   "cell_type": "code",
   "execution_count": null,
   "metadata": {},
   "outputs": [],
   "source": [
    "bLands = BayesLands(muted, simtime, samples, final_elev, final_erdp, final_erdp_pts, erdp_coords, filename, xmlinput, erodlimits, rainlimits, mlimit, nlimit, marinelimit, aeriallimit, run_nb_str, likl_sed)"
   ]
  },
  {
   "cell_type": "code",
   "execution_count": null,
   "metadata": {},
   "outputs": [],
   "source": [
    "[pos_rain, pos_erod, pos_likl] = bLands.likelihoodSurface()"
   ]
  },
  {
   "cell_type": "markdown",
   "metadata": {},
   "source": [
    "# Check the output"
   ]
  },
  {
   "cell_type": "code",
   "execution_count": null,
   "metadata": {},
   "outputs": [],
   "source": [
    "viewGrid(directory,1,)"
   ]
  },
  {
   "cell_type": "markdown",
   "metadata": {},
   "source": []
  }
 ],
 "metadata": {
  "kernelspec": {
   "display_name": "Python 2",
   "language": "python",
   "name": "python2"
  },
  "language_info": {
   "codemirror_mode": {
    "name": "ipython",
    "version": 2
   },
   "file_extension": ".py",
   "mimetype": "text/x-python",
   "name": "python",
   "nbconvert_exporter": "python",
   "pygments_lexer": "ipython2",
   "version": "2.7.15"
  }
 },
 "nbformat": 4,
 "nbformat_minor": 1
}
