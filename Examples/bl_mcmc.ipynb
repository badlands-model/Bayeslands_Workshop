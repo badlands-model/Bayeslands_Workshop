{
 "cells": [
  {
   "cell_type": "markdown",
   "metadata": {},
   "source": [
    "# Running a Bayeslands example on a crater\n",
    "\n",
    "In this notebook, we will and run a Bayeslands model"
   ]
  },
  {
   "cell_type": "code",
   "execution_count": null,
   "metadata": {},
   "outputs": [],
   "source": [
    "#Set up the environemnt\n",
    "%matplotlib inline\n",
    "import sys\n",
    "sys.path.append('scripts/')\n",
    "\n",
    "import numpy as np\n",
    "import time\n",
    "import random\n",
    "\n",
    "#Import the script that produces a start and end topography\n",
    "from bl_mcmc import *\n",
    "\n",
    "# display plots in SVG format\n",
    "#%config InlineBackend.figure_format = 'svg'"
   ]
  },
  {
   "cell_type": "code",
   "execution_count": null,
   "metadata": {},
   "outputs": [],
   "source": [
    "random.seed(time.time())\n",
    "muted = True\n",
    "run_nb = 0\n",
    "directory = \"\"\n",
    "likl_sed = False\n",
    "erdp_coords = np.array([[60,60],[52,67],[74,76],[62,45],[72,66],[85,73],[90,75],[44,86],[100,80],[88,69]])\n",
    "\n",
    "\n",
    "\n",
    "directory = 'crater'\n",
    "xmlinput = '%s/crater.xml' %(directory)\n",
    "samples = 100\n",
    "simtime = 50000\n",
    "rainlimits = [0.0, 3.0]\n",
    "erodlimits = [3.e-5, 7.e-5]\n",
    "mlimit = [0.4, 0.6]\n",
    "nlimit = [0.9, 1.1]\n",
    "true_rain = 1.5\n",
    "true_erod = 5.e-5\n",
    "likl_sed = True\n",
    "erdp_coords = erdp_coords\n"
   ]
  },
  {
   "cell_type": "code",
   "execution_count": null,
   "metadata": {},
   "outputs": [],
   "source": [
    "#Create all the output directories\n",
    "final_elev = np.loadtxt('%s/data/final_elev.txt' %(directory))\n",
    "final_erdp = np.loadtxt('%s/data/final_erdp.txt' %(directory))\n",
    "final_erdp_pts = np.loadtxt('%s/data/final_erdp_pts.txt' %(directory))\t\n",
    "\n",
    "while os.path.exists('%s/mcmcresults_%s' % (directory,run_nb)):\n",
    "    run_nb+=1\n",
    "if not os.path.exists('%s/mcmcresults_%s' % (directory,run_nb)):\n",
    "    os.makedirs('%s/mcmcresults_%s' % (directory,run_nb))\n",
    "    os.makedirs('%s/mcmcresults_%s/plots' % (directory,run_nb))\n",
    "    os.makedirs('%s/mcmcresults_%s/prediction_data' % (directory,run_nb))\n",
    "    filename = ('%s/mcmcresults_%s' % (directory,run_nb))\n",
    "\n",
    "print '\\nInput file shape', final_elev.shape, '\\n'\n",
    "run_nb_str = 'mcmcresults_' + str(run_nb)\n"
   ]
  },
  {
   "cell_type": "code",
   "execution_count": null,
   "metadata": {},
   "outputs": [],
   "source": [
    "#Make the Bayeslands Sampler\n",
    "bl_mcmc = bayeslands_mcmc(muted, simtime, samples, final_elev, final_erdp, final_erdp_pts, erdp_coords, filename, xmlinput, erodlimits, rainlimits, mlimit, nlimit, run_nb_str, likl_sed)\n"
   ]
  },
  {
   "cell_type": "code",
   "execution_count": null,
   "metadata": {},
   "outputs": [],
   "source": [
    "#And run it\n",
    "bl_mcmc.sampler()\n",
    "\n",
    "print '\\nsuccessfully sampled\\nFinished simulations'"
   ]
  },
  {
   "cell_type": "markdown",
   "metadata": {},
   "source": [
    "# Check the output"
   ]
  },
  {
   "cell_type": "code",
   "execution_count": null,
   "metadata": {},
   "outputs": [],
   "source": [
    "viewGrid(directory,1,)"
   ]
  },
  {
   "cell_type": "code",
   "execution_count": null,
   "metadata": {},
   "outputs": [],
   "source": []
  }
 ],
 "metadata": {
  "kernelspec": {
   "display_name": "Python 2",
   "language": "python",
   "name": "python2"
  },
  "language_info": {
   "codemirror_mode": {
    "name": "ipython",
    "version": 2
   },
   "file_extension": ".py",
   "mimetype": "text/x-python",
   "name": "python",
   "nbconvert_exporter": "python",
   "pygments_lexer": "ipython2",
   "version": "2.7.15"
  }
 },
 "nbformat": 4,
 "nbformat_minor": 1
}
