{
 "cells": [
  {
   "cell_type": "markdown",
   "metadata": {},
   "source": [
    "\n"
   ]
  },
  {
   "cell_type": "markdown",
   "metadata": {},
   "source": [
    "# Running a MCMC Bayeslands example\n",
    "\n",
    "In this notebook, we will and run a simple Bayeslands model using a mcmc chain.\n",
    "\n",
    "## Bayes\n",
    "\n",
    "Given some data, $D$, we make inference regarding unknown parameters, denoted by  $\\theta$, via the posterior distribution $p(\\theta|D)$,\n",
    "\n",
    "given by Bayes rule, $p(\\theta|D)=\\frac{p(D|\\theta)p(\\theta)}{P(D)}$\n",
    "\n",
    "$p(D|\\theta)$ is the likelihood of the data given the parameters\n",
    "\n",
    "$p(\\theta)$ is the prior\n",
    "\n",
    "$p(D)$ is a normalizing constant and equal to $\\int p(D|\\theta)p(\\theta)d\\theta$. \n",
    "\n",
    "Bayeslands uses MCMC to obtain samples of $\\theta$ from the posterior distribution by proposing values from some known distribution $q(\\theta)$. The value of $\\theta$ is  then set equal to these proposed values with a probability which ensures the detailed balance condition is met, otherwise the chain remains in its current position. The transition kernel which moves the Markov chain from one point to another in the parameter space is the product of the proposal distribution $q$ and the acceptance probability, $\\alpha$. Under certain conditions, the draws from this transition kernel converge to draws from the stationary distribution, $p(\\theta| D)$.\n",
    "\n",
    "## Markov Chain Monte Carlo\n",
    "\n",
    "This method requires running Badlands thousands of times to explore the full parameter space. If a model takes 1 second, this is okay, but if a model takes a few minutes, then it does not scale very well and for that purpose we'll be using the concept of ***parallel tempering*** to help overcome this problem.\n",
    "\n",
    "The MCMC Metropolis Hastings algorithm can be visualised as follows:\n",
    "\n",
    "   Metropolis Hastings |  Algorithm Workflow \n",
    ":-------------------------:|:-------------------------:\n",
    "![](notebook_images/alg_MH.png)  |  ![](notebook_images/Bayeslands-MCMC-flowchart.png)\n",
    "\n",
    "Here are the trace plots for the two parameters of rainfall and erodibility. Each sample is trying a slightly different value of rainfall and erodibility (combined with other parametrs). In this case the ***true value*** of rainfall and erodibility was 1.5 m/yr and 0.00005 respectively.\n",
    "\n",
    "Parameter exploration with MCMC\n",
    "![](notebook_images/trace_mcmc_rain_erod.png)\n",
    "\n",
    "\n",
    "\n"
   ]
  },
  {
   "cell_type": "code",
   "execution_count": null,
   "metadata": {},
   "outputs": [],
   "source": [
    "#Set up the environemnt\n",
    "%matplotlib inline\n",
    "import sys\n",
    "sys.path.append('scripts/')\n",
    "\n",
    "import numpy as np\n",
    "import time\n",
    "import random\n",
    "\n",
    "#Import the script that produces a start and end topography\n",
    "from bl_mcmc import *\n",
    "\n",
    "# from bl_preproc import *\n",
    "from bl_postproc import *\n",
    "\n",
    "# display plots in SVG format\n",
    "#%config InlineBackend.figure_format = 'svg'"
   ]
  },
  {
   "cell_type": "code",
   "execution_count": null,
   "metadata": {},
   "outputs": [],
   "source": [
    "random.seed(time.time())\n",
    "muted = True\n",
    "run_nb = 0\n",
    "directory = \"\"\n",
    "likl_sed = False\n",
    "erdp_coords = np.array([[60,60],[52,67],[74,76],[62,45],[72,66],[85,73],[90,75],[44,86],[100,80],[88,69]])\n",
    "\n",
    "directory = 'crater'\n",
    "xmlinput = '%s/crater.xml' %(directory)\n",
    "samples = 20\n",
    "simtime = 50000\n",
    "rainlimits = [0.0, 3.0]\n",
    "erodlimits = [3.e-5, 7.e-5]\n",
    "mlimit = [0.4, 0.6]\n",
    "nlimit = [0.9, 1.1]\n",
    "true_rain = 1.5\n",
    "true_erod = 5.e-5\n",
    "likl_sed = True\n",
    "erdp_coords = erdp_coords\n"
   ]
  },
  {
   "cell_type": "code",
   "execution_count": null,
   "metadata": {},
   "outputs": [],
   "source": [
    "#Create all the output directories\n",
    "final_elev = np.loadtxt('%s/data/final_elev.txt' %(directory))\n",
    "final_erdp = np.loadtxt('%s/data/final_erdp.txt' %(directory))\n",
    "final_erdp_pts = np.loadtxt('%s/data/final_erdp_pts.txt' %(directory))\t\n",
    "\n",
    "while os.path.exists('%s/mcmcresults_%s' % (directory,run_nb)):\n",
    "    run_nb+=1\n",
    "if not os.path.exists('%s/mcmcresults_%s' % (directory,run_nb)):\n",
    "    os.makedirs('%s/mcmcresults_%s' % (directory,run_nb))\n",
    "    os.makedirs('%s/mcmcresults_%s/plots' % (directory,run_nb))\n",
    "    os.makedirs('%s/mcmcresults_%s/prediction_data' % (directory,run_nb))\n",
    "    filename = ('%s/mcmcresults_%s' % (directory,run_nb))\n",
    "\n",
    "print '\\nInput file shape', final_elev.shape, '\\n'\n",
    "run_nb_str = 'mcmcresults_' + str(run_nb)\n"
   ]
  },
  {
   "cell_type": "code",
   "execution_count": null,
   "metadata": {},
   "outputs": [],
   "source": [
    "#Make the Bayeslands Sampler\n",
    "bl_mcmc = bayeslands_mcmc(muted, simtime, samples, final_elev, final_erdp, final_erdp_pts, erdp_coords, filename, xmlinput, erodlimits, rainlimits, mlimit, nlimit, run_nb_str, likl_sed)\n"
   ]
  },
  {
   "cell_type": "code",
   "execution_count": null,
   "metadata": {
    "scrolled": true
   },
   "outputs": [],
   "source": [
    "#And run it\n",
    "bl_mcmc.sampler()\n",
    "\n",
    "print '\\nsuccessfully sampled\\nFinished simulations'"
   ]
  },
  {
   "cell_type": "markdown",
   "metadata": {},
   "source": [
    "# Check the output"
   ]
  },
  {
   "cell_type": "code",
   "execution_count": null,
   "metadata": {},
   "outputs": [],
   "source": [
    "run_nb = input('Please enter the folder number for Experiment i.e. mcmcresults_% ')\n",
    "fname = '%s/mcmcresults_%s/' % (directory,run_nb)\n",
    "exp_data = '%s/mcmcresults_%s/exp_data.txt' % (directory,run_nb)\n",
    "prediction_data = '%s/mcmcresults_%s/prediction_data/' % (directory,run_nb)"
   ]
  },
  {
   "cell_type": "code",
   "execution_count": null,
   "metadata": {},
   "outputs": [],
   "source": [
    "filename_list = []\n",
    "filename_list.append(exp_data)\n",
    "\n",
    "rain = []\n",
    "erod = []\n",
    "likl = []\n",
    "\n",
    "for list_name in filename_list:\n",
    "    with open(list_name) as f:\n",
    "        for count, line in enumerate(f):\n",
    "            # print count,' ', line\n",
    "            term = line.split()\n",
    "            # print 'term', term\n",
    "            rain.append(term[0])\n",
    "            # print 'rain', rain\n",
    "            erod.append(term[1])\n",
    "            # print 'erod', erod\n",
    "            likl.append(term[2])\n",
    "            # print 'likl', likl\n",
    "\n",
    "print 'length of likl', len(likl), ' rain', len(rain), ' erod', len(erod)\n",
    "\n",
    "rain_ = np.asarray(rain, dtype = float)\n",
    "erod_ = np.asarray(erod, dtype = float)\n",
    "likl_ = np.asarray(likl, dtype = float)\n",
    "t_val_ = np.loadtxt('%s/data/true_values.txt' % (directory))\n",
    "erdp_pts_data = np.loadtxt('%s/data/final_erdp_pts.txt' % (directory))\n",
    "prefixed = [filename for filename in os.listdir(prediction_data) if filename.startswith(\"mean_pred_erdp_pts_\")]\n",
    "\n",
    "bins= input(\"Please enter Bin Size for Histogram (e.g. 10, 20 ,30 ...\")\n",
    "plotFunctions(fname, likl_, rain_, erod_, bins, t_val_)\n",
    "# plotFunctions(fname, likl_, rain_, erod_, bins, rain_true_val, erod_true_val)\n",
    "print '\\nFinished plotting'\n"
   ]
  },
  {
   "cell_type": "code",
   "execution_count": null,
   "metadata": {},
   "outputs": [],
   "source": []
  }
 ],
 "metadata": {
  "kernelspec": {
   "display_name": "Python 2",
   "language": "python",
   "name": "python2"
  },
  "language_info": {
   "codemirror_mode": {
    "name": "ipython",
    "version": 2
   },
   "file_extension": ".py",
   "mimetype": "text/x-python",
   "name": "python",
   "nbconvert_exporter": "python",
   "pygments_lexer": "ipython2",
   "version": "2.7.15"
  }
 },
 "nbformat": 4,
 "nbformat_minor": 1
}
